{
 "cells": [
  {
   "cell_type": "markdown",
   "metadata": {},
   "source": [
    "Cedric Keller***REMOVED*** & Alexander Zank***REMOVED***\n",
    "# Assignment 5\n",
    "\n",
    "This assignment is about visible light communication (VLC). LEDs act as transceivers and communicate using protocols that ensure no difference to \"steady\" light is visible to humans.\n",
    "\n",
    "## Step 2\n",
    "\n"
   ]
  },
  {
   "cell_type": "markdown",
   "metadata": {},
   "source": []
  }
 ],
 "metadata": {
  "language_info": {
   "name": "python"
  },
  "orig_nbformat": 4
 },
 "nbformat": 4,
 "nbformat_minor": 2
}
